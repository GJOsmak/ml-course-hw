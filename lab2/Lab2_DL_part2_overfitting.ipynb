{
  "cells": [
    {
      "cell_type": "markdown",
      "metadata": {
        "id": "NFmOh482SyEF"
      },
      "source": [
        "## Lab 2\n",
        "### Part 2: Dealing with overfitting"
      ]
    },
    {
      "cell_type": "markdown",
      "metadata": {
        "id": "AjzAuO3oSvsI"
      },
      "source": [
        "Today we work with [Fashion-MNIST dataset](https://github.com/zalandoresearch/fashion-mnist) (*hint: it is available in `torchvision`*).\n",
        "\n",
        "Your goal for today:\n",
        "1. Train a FC (fully-connected) network that achieves >= 0.885 test accuracy.\n",
        "2. Cause considerable overfitting by modifying the network (e.g. increasing the number of network parameters and/or layers) and demonstrate in in the appropriate way (e.g. plot loss and accurasy on train and validation set w.r.t. network complexity).\n",
        "3. Try to deal with overfitting (at least partially) by using regularization techniques (Dropout/Batchnorm/...) and demonstrate the results.\n",
        "\n",
        "__Please, write a small report describing your ideas, tries and achieved results in the end of this file.__\n",
        "\n",
        "*Note*: Tasks 2 and 3 are interrelated, in task 3 your goal is to make the network from task 2 less prone to overfitting. Task 1 is independent from 2 and 3.\n",
        "\n",
        "*Note 2*: We recomment to use Google Colab or other machine with GPU acceleration."
      ]
    },
    {
      "cell_type": "code",
      "execution_count": 2,
      "metadata": {
        "id": "_KBld6VOSwhW"
      },
      "outputs": [],
      "source": [
        "import torch\n",
        "import torch.nn as nn\n",
        "import torchvision\n",
        "import torchvision.transforms as transforms\n",
        "import torchsummary\n",
        "from IPython.display import clear_output\n",
        "from matplotlib import pyplot as plt\n",
        "from matplotlib.pyplot import figure\n",
        "import numpy as np\n",
        "import os\n",
        "\n",
        "\n",
        "device = 'cuda:0' if torch.cuda.is_available() else 'cpu'"
      ]
    },
    {
      "cell_type": "code",
      "execution_count": 3,
      "metadata": {
        "colab": {
          "base_uri": "https://localhost:8080/"
        },
        "id": "EdLOG0XqS_g5",
        "outputId": "734bc125-1bf9-4f12-ccc0-7621cb8b1a88"
      },
      "outputs": [
        {
          "output_type": "stream",
          "name": "stdout",
          "text": [
            "Directory fmnist is created!\n"
          ]
        }
      ],
      "source": [
        "# Technical function\n",
        "def mkdir(path):\n",
        "    if not os.path.exists(root_path):\n",
        "        os.mkdir(root_path)\n",
        "        print('Directory', path, 'is created!')\n",
        "    else:\n",
        "        print('Directory', path, 'already exists!')\n",
        "\n",
        "root_path = 'fmnist'\n",
        "mkdir(root_path)"
      ]
    },
    {
      "cell_type": "code",
      "execution_count": 4,
      "metadata": {
        "colab": {
          "base_uri": "https://localhost:8080/"
        },
        "id": "qt6LE7XaTDT9",
        "outputId": "f00e3fc4-0be5-4acc-a0c6-13864e3bd792"
      },
      "outputs": [
        {
          "output_type": "stream",
          "name": "stdout",
          "text": [
            "Downloading http://fashion-mnist.s3-website.eu-central-1.amazonaws.com/train-images-idx3-ubyte.gz\n",
            "Downloading http://fashion-mnist.s3-website.eu-central-1.amazonaws.com/train-images-idx3-ubyte.gz to fmnist/FashionMNIST/raw/train-images-idx3-ubyte.gz\n"
          ]
        },
        {
          "output_type": "stream",
          "name": "stderr",
          "text": [
            "100%|██████████| 26421880/26421880 [00:01<00:00, 14932294.44it/s]\n"
          ]
        },
        {
          "output_type": "stream",
          "name": "stdout",
          "text": [
            "Extracting fmnist/FashionMNIST/raw/train-images-idx3-ubyte.gz to fmnist/FashionMNIST/raw\n",
            "\n",
            "Downloading http://fashion-mnist.s3-website.eu-central-1.amazonaws.com/train-labels-idx1-ubyte.gz\n",
            "Downloading http://fashion-mnist.s3-website.eu-central-1.amazonaws.com/train-labels-idx1-ubyte.gz to fmnist/FashionMNIST/raw/train-labels-idx1-ubyte.gz\n"
          ]
        },
        {
          "output_type": "stream",
          "name": "stderr",
          "text": [
            "100%|██████████| 29515/29515 [00:00<00:00, 274131.75it/s]\n"
          ]
        },
        {
          "output_type": "stream",
          "name": "stdout",
          "text": [
            "Extracting fmnist/FashionMNIST/raw/train-labels-idx1-ubyte.gz to fmnist/FashionMNIST/raw\n",
            "\n",
            "Downloading http://fashion-mnist.s3-website.eu-central-1.amazonaws.com/t10k-images-idx3-ubyte.gz\n",
            "Downloading http://fashion-mnist.s3-website.eu-central-1.amazonaws.com/t10k-images-idx3-ubyte.gz to fmnist/FashionMNIST/raw/t10k-images-idx3-ubyte.gz\n"
          ]
        },
        {
          "output_type": "stream",
          "name": "stderr",
          "text": [
            "100%|██████████| 4422102/4422102 [00:00<00:00, 5102917.37it/s]\n"
          ]
        },
        {
          "output_type": "stream",
          "name": "stdout",
          "text": [
            "Extracting fmnist/FashionMNIST/raw/t10k-images-idx3-ubyte.gz to fmnist/FashionMNIST/raw\n",
            "\n",
            "Downloading http://fashion-mnist.s3-website.eu-central-1.amazonaws.com/t10k-labels-idx1-ubyte.gz\n",
            "Downloading http://fashion-mnist.s3-website.eu-central-1.amazonaws.com/t10k-labels-idx1-ubyte.gz to fmnist/FashionMNIST/raw/t10k-labels-idx1-ubyte.gz\n"
          ]
        },
        {
          "output_type": "stream",
          "name": "stderr",
          "text": [
            "100%|██████████| 5148/5148 [00:00<00:00, 12116878.22it/s]\n"
          ]
        },
        {
          "output_type": "stream",
          "name": "stdout",
          "text": [
            "Extracting fmnist/FashionMNIST/raw/t10k-labels-idx1-ubyte.gz to fmnist/FashionMNIST/raw\n",
            "\n"
          ]
        }
      ],
      "source": [
        "download = True\n",
        "train_transform = transforms.ToTensor()\n",
        "test_transform = transforms.ToTensor()\n",
        "transforms.Compose((transforms.ToTensor()))\n",
        "\n",
        "\n",
        "fmnist_dataset_train = torchvision.datasets.FashionMNIST(root_path,\n",
        "                                                        train=True,\n",
        "                                                        transform=train_transform,\n",
        "                                                        target_transform=None,\n",
        "                                                        download=download)\n",
        "fmnist_dataset_test = torchvision.datasets.FashionMNIST(root_path,\n",
        "                                                       train=False,\n",
        "                                                       transform=test_transform,\n",
        "                                                       target_transform=None,\n",
        "                                                       download=download)"
      ]
    },
    {
      "cell_type": "code",
      "execution_count": 5,
      "metadata": {
        "id": "71YP0SPwTIxD"
      },
      "outputs": [],
      "source": [
        "train_loader = torch.utils.data.DataLoader(fmnist_dataset_train,\n",
        "                                           batch_size=128,\n",
        "                                           shuffle=True,\n",
        "                                           num_workers=2)\n",
        "test_loader = torch.utils.data.DataLoader(fmnist_dataset_test,\n",
        "                                          batch_size=256,\n",
        "                                          shuffle=False,\n",
        "                                          num_workers=2)"
      ]
    },
    {
      "cell_type": "code",
      "execution_count": 6,
      "metadata": {
        "colab": {
          "base_uri": "https://localhost:8080/"
        },
        "id": "v_YFmF7NTWrQ",
        "outputId": "1299f4c4-7061-4e46-e95b-9c992276994c"
      },
      "outputs": [
        {
          "output_type": "execute_result",
          "data": {
            "text/plain": [
              "10000"
            ]
          },
          "metadata": {},
          "execution_count": 6
        }
      ],
      "source": [
        "len(fmnist_dataset_test)"
      ]
    },
    {
      "cell_type": "code",
      "execution_count": 7,
      "metadata": {
        "colab": {
          "base_uri": "https://localhost:8080/"
        },
        "id": "aHca15bOTY4B",
        "outputId": "48704be3-25d5-40b0-93b6-89373234227a"
      },
      "outputs": [
        {
          "output_type": "stream",
          "name": "stdout",
          "text": [
            "torch.Size([128, 1, 28, 28])\n",
            "torch.Size([128])\n",
            "128\n"
          ]
        }
      ],
      "source": [
        "for img, label in train_loader:\n",
        "    print(img.shape)\n",
        "#     print(img)\n",
        "    print(label.shape)\n",
        "    print(label.size(0))\n",
        "    break"
      ]
    },
    {
      "cell_type": "markdown",
      "metadata": {
        "id": "b6OOOffHTfX5"
      },
      "source": [
        "### Task 1\n",
        "Train a network that achieves $\\geq 0.885$ test accuracy. It's fine to use only Linear (`nn.Linear`) layers and activations/dropout/batchnorm. Convolutional layers might be a great use, but we will meet them a bit later."
      ]
    },
    {
      "cell_type": "code",
      "execution_count": 44,
      "metadata": {
        "id": "ftpkTjxlTcFx"
      },
      "outputs": [],
      "source": [
        "class TinyNeuralNetwork(nn.Module):\n",
        "    def __init__(self, input_shape=28*28, num_classes=10, input_channels=1, hidden_size=512, dropout_rate=0.2, hidden_size_2=128):\n",
        "        super(TinyNeuralNetwork, self).__init__()\n",
        "        self.model = nn.Sequential(\n",
        "            nn.Flatten(),\n",
        "            nn.Linear(input_shape, hidden_size),\n",
        "            nn.BatchNorm1d(hidden_size),\n",
        "            nn.ReLU(),\n",
        "            nn.Dropout(p=dropout_rate),\n",
        "            nn.Linear(hidden_size, hidden_size_2),\n",
        "            nn.BatchNorm1d(hidden_size_2),\n",
        "            nn.ReLU(),\n",
        "            nn.Linear(hidden_size_2, num_classes)\n",
        "        )\n",
        "\n",
        "    def forward(self, inp):\n",
        "        out = self.model(inp)\n",
        "        return out"
      ]
    },
    {
      "cell_type": "code",
      "execution_count": 45,
      "metadata": {
        "colab": {
          "base_uri": "https://localhost:8080/"
        },
        "id": "JMZPEAIJqk7A",
        "outputId": "ff850ca7-10f6-444d-d024-a9b24998507b"
      },
      "outputs": [
        {
          "output_type": "stream",
          "name": "stdout",
          "text": [
            "----------------------------------------------------------------\n",
            "        Layer (type)               Output Shape         Param #\n",
            "================================================================\n",
            "           Flatten-1                  [-1, 784]               0\n",
            "            Linear-2                  [-1, 512]         401,920\n",
            "       BatchNorm1d-3                  [-1, 512]           1,024\n",
            "              ReLU-4                  [-1, 512]               0\n",
            "           Dropout-5                  [-1, 512]               0\n",
            "            Linear-6                  [-1, 128]          65,664\n",
            "       BatchNorm1d-7                  [-1, 128]             256\n",
            "              ReLU-8                  [-1, 128]               0\n",
            "            Linear-9                   [-1, 10]           1,290\n",
            "================================================================\n",
            "Total params: 470,154\n",
            "Trainable params: 470,154\n",
            "Non-trainable params: 0\n",
            "----------------------------------------------------------------\n",
            "Input size (MB): 0.00\n",
            "Forward/backward pass size (MB): 0.02\n",
            "Params size (MB): 1.79\n",
            "Estimated Total Size (MB): 1.82\n",
            "----------------------------------------------------------------\n"
          ]
        }
      ],
      "source": [
        "torchsummary.summary(TinyNeuralNetwork().to(device), (28*28,))"
      ]
    },
    {
      "cell_type": "markdown",
      "metadata": {
        "id": "544PGKEnjPr5"
      },
      "source": [
        "Your experiments come here:"
      ]
    },
    {
      "cell_type": "code",
      "execution_count": 46,
      "metadata": {
        "colab": {
          "base_uri": "https://localhost:8080/"
        },
        "id": "i3POFj90Ti-6",
        "outputId": "b9d815d1-660e-4621-c5a8-e9a6babf50f1"
      },
      "outputs": [
        {
          "output_type": "stream",
          "name": "stdout",
          "text": [
            "Epoch 1/9, Loss: 0.4944, Test Accuracy: 0.8510\n",
            "Epoch 2/9, Loss: 0.5483, Test Accuracy: 0.8684\n",
            "Epoch 3/9, Loss: 0.3498, Test Accuracy: 0.8738\n",
            "Epoch 4/9, Loss: 0.2549, Test Accuracy: 0.8811\n",
            "Epoch 5/9, Loss: 0.2215, Test Accuracy: 0.8805\n",
            "Epoch 6/9, Loss: 0.2076, Test Accuracy: 0.8812\n",
            "Epoch 7/9, Loss: 0.3482, Test Accuracy: 0.8804\n",
            "Epoch 8/9, Loss: 0.2949, Test Accuracy: 0.8868\n",
            "Epoch 9/9, Loss: 0.2792, Test Accuracy: 0.8905\n",
            "Training finished.\n"
          ]
        }
      ],
      "source": [
        "device = torch.device(\"cuda\" if torch.cuda.is_available() else \"cpu\")\n",
        "\n",
        "# Initialize the model and move it to the selected device\n",
        "model = TinyNeuralNetwork().to(device)\n",
        "\n",
        "# Choose an optimizer and a loss function\n",
        "optimizer = torch.optim.Adagrad(model.parameters(), lr=3e-3)\n",
        "loss_function = nn.CrossEntropyLoss()\n",
        "\n",
        "# Training loop\n",
        "num_epochs = 9\n",
        "for epoch in range(num_epochs):\n",
        "    model.train()\n",
        "    for batch_data, batch_labels in train_loader:\n",
        "        batch_data, batch_labels = batch_data.to(device), batch_labels.to(device)\n",
        "\n",
        "        optimizer.zero_grad()\n",
        "        outputs = model(batch_data)\n",
        "        loss = loss_function(outputs, batch_labels)\n",
        "        loss.backward()\n",
        "        optimizer.step()\n",
        "\n",
        "    # Validation loop\n",
        "    model.eval()\n",
        "    correct, total = 0, 0\n",
        "    with torch.no_grad():\n",
        "        for batch_data, batch_labels in test_loader:\n",
        "            batch_data, batch_labels = batch_data.to(device), batch_labels.to(device)\n",
        "\n",
        "            outputs = model(batch_data)\n",
        "            _, predicted = torch.max(outputs, 1)\n",
        "            total += batch_labels.size(0)\n",
        "            correct += (predicted == batch_labels).sum().item()\n",
        "\n",
        "    accuracy = correct / total\n",
        "    print(f'Epoch {epoch+1}/{num_epochs}, Loss: {loss.item():.4f}, Test Accuracy: {accuracy:.4f}')\n",
        "\n",
        "print(\"Training finished.\")\n"
      ]
    },
    {
      "cell_type": "markdown",
      "metadata": {
        "id": "L7ISqkjmCPB1"
      },
      "source": [
        "Ё\n",
        "### Task 2: Overfit it.\n",
        "Build a network that will overfit to this dataset. Demonstrate the overfitting in the appropriate way (e.g. plot loss and accurasy on train and test set w.r.t. network complexity).\n",
        "\n",
        "*Note:* you also might decrease the size of `train` dataset to enforce the overfitting and speed up the computations."
      ]
    },
    {
      "cell_type": "code",
      "execution_count": 40,
      "metadata": {
        "colab": {
          "base_uri": "https://localhost:8080/",
          "height": 586
        },
        "id": "H12uAWiGBwJx",
        "outputId": "4583f505-b79b-4d57-e7d4-b58e686dfd2a"
      },
      "outputs": [
        {
          "output_type": "stream",
          "name": "stdout",
          "text": [
            "Epoch 1/10, Overfitting Train Loss: 0.4145, Overfitting Test Loss: 0.8552, Overfitting Train Accuracy: 0.8458, Overfitting Test Accuracy: 0.7213\n",
            "Epoch 2/10, Overfitting Train Loss: 0.3237, Overfitting Test Loss: 0.7325, Overfitting Train Accuracy: 0.8801, Overfitting Test Accuracy: 0.7556\n",
            "Epoch 3/10, Overfitting Train Loss: 0.2947, Overfitting Test Loss: 0.8100, Overfitting Train Accuracy: 0.8898, Overfitting Test Accuracy: 0.6781\n",
            "Epoch 4/10, Overfitting Train Loss: 0.2803, Overfitting Test Loss: 0.8962, Overfitting Train Accuracy: 0.8932, Overfitting Test Accuracy: 0.7339\n",
            "Epoch 5/10, Overfitting Train Loss: 0.2885, Overfitting Test Loss: 0.9636, Overfitting Train Accuracy: 0.8911, Overfitting Test Accuracy: 0.6422\n",
            "Epoch 6/10, Overfitting Train Loss: 0.2432, Overfitting Test Loss: 0.8981, Overfitting Train Accuracy: 0.9088, Overfitting Test Accuracy: 0.6655\n",
            "Epoch 7/10, Overfitting Train Loss: 0.2209, Overfitting Test Loss: 1.2894, Overfitting Train Accuracy: 0.9153, Overfitting Test Accuracy: 0.5779\n",
            "Epoch 8/10, Overfitting Train Loss: 0.2153, Overfitting Test Loss: 1.1402, Overfitting Train Accuracy: 0.9187, Overfitting Test Accuracy: 0.5893\n",
            "Epoch 9/10, Overfitting Train Loss: 0.2217, Overfitting Test Loss: 1.0352, Overfitting Train Accuracy: 0.9156, Overfitting Test Accuracy: 0.6363\n",
            "Epoch 10/10, Overfitting Train Loss: 0.1888, Overfitting Test Loss: 1.2072, Overfitting Train Accuracy: 0.9278, Overfitting Test Accuracy: 0.6229\n"
          ]
        },
        {
          "output_type": "display_data",
          "data": {
            "text/plain": [
              "<Figure size 1200x400 with 2 Axes>"
            ],
            "image/png": "[encoded data removed]"
          },
          "metadata": {}
        }
      ],
      "source": [
        "import torch\n",
        "import torch.nn as nn\n",
        "import torch.optim as optim\n",
        "from torch.utils.data import DataLoader\n",
        "from torchvision import datasets, transforms\n",
        "import matplotlib.pyplot as plt\n",
        "\n",
        "# Load Fashion-MNIST dataset and Decrease the size of the train dataset to enforce overfitting\n",
        "transform = transforms.Compose([transforms.ToTensor(), transforms.Normalize((0.5,), (0.5,))])\n",
        "fmnist_dataset_train = datasets.FashionMNIST(root='./data', train=True, download=True, transform=transform)\n",
        "overfitting_train_loader = DataLoader(fmnist_dataset_train, batch_size=32, shuffle=True, num_workers=2)\n",
        "\n",
        "# Define a neural network for overfitting\n",
        "class OverfittingNeuralNetwork(nn.Module):\n",
        "    def __init__(self, input_shape=28*28, num_classes=10, input_channels=1, hidden_size=512, dropout_rate=0.0, hidden_size_2=512):\n",
        "        super(OverfittingNeuralNetwork, self).__init__()\n",
        "        self.model = nn.Sequential(\n",
        "            nn.Flatten(),  # This layer converts image into a vector to use Linear layers afterwards\n",
        "            nn.Linear(input_shape, hidden_size),\n",
        "            #nn.BatchNorm1d(hidden_size),\n",
        "            nn.ReLU(),\n",
        "            nn.Dropout(p=dropout_rate),\n",
        "            nn.Linear(hidden_size, hidden_size_2),\n",
        "            #nn.BatchNorm1d(hidden_size_2),\n",
        "            nn.ReLU(),\n",
        "            nn.Linear(hidden_size_2, num_classes)\n",
        "        )\n",
        "\n",
        "    def forward(self, inp):\n",
        "        out = self.model(inp)\n",
        "        return out\n",
        "\n",
        "# Set the device to GPU if available, otherwise use CPU\n",
        "device = torch.device(\"cuda\" if torch.cuda.is_available() else \"cpu\")\n",
        "\n",
        "# Initialize the overfitting model and move it to the selected device\n",
        "overfitting_model = OverfittingNeuralNetwork().to(device)\n",
        "\n",
        "# Choose an optimizer and a loss function\n",
        "optimizer_overfitting = torch.optim.Adam(overfitting_model.parameters(), lr=0.001)\n",
        "criterion_overfitting = nn.CrossEntropyLoss()\n",
        "\n",
        "# Training loop for overfitting\n",
        "num_epochs_overfitting = 10\n",
        "overfitting_train_losses = []\n",
        "overfitting_test_losses = []\n",
        "overfitting_train_accuracies = []\n",
        "overfitting_test_accuracies = []\n",
        "\n",
        "for epoch in range(num_epochs_overfitting):\n",
        "    overfitting_model.train()\n",
        "    for batch_data, batch_labels in overfitting_train_loader:\n",
        "        batch_data, batch_labels = batch_data.to(device), batch_labels.to(device)\n",
        "\n",
        "        optimizer_overfitting.zero_grad()\n",
        "        outputs_overfitting = overfitting_model(batch_data)\n",
        "        loss_overfitting = criterion_overfitting(outputs_overfitting, batch_labels)\n",
        "        loss_overfitting.backward()\n",
        "        optimizer_overfitting.step()\n",
        "\n",
        "    # Train set evaluation\n",
        "    overfitting_model.eval()\n",
        "    overfitting_train_loss = 0.0\n",
        "    correct_train, total_train = 0, 0\n",
        "    with torch.no_grad():\n",
        "        for batch_data, batch_labels in overfitting_train_loader:\n",
        "            batch_data, batch_labels = batch_data.to(device), batch_labels.to(device)\n",
        "\n",
        "            outputs_overfitting = overfitting_model(batch_data)\n",
        "            _, predicted_train = torch.max(outputs_overfitting, 1)\n",
        "            total_train += batch_labels.size(0)\n",
        "            correct_train += (predicted_train == batch_labels).sum().item()\n",
        "            overfitting_train_loss += criterion_overfitting(outputs_overfitting, batch_labels).item()\n",
        "\n",
        "    # Test set evaluation\n",
        "    overfitting_test_loss = 0.0\n",
        "    correct_test, total_test = 0, 0\n",
        "    with torch.no_grad():\n",
        "        for batch_data, batch_labels in test_loader:\n",
        "            batch_data, batch_labels = batch_data.to(device), batch_labels.to(device)\n",
        "\n",
        "            outputs_overfitting = overfitting_model(batch_data)\n",
        "            _, predicted_test = torch.max(outputs_overfitting, 1)\n",
        "            total_test += batch_labels.size(0)\n",
        "            correct_test += (predicted_test == batch_labels).sum().item()\n",
        "            overfitting_test_loss += criterion_overfitting(outputs_overfitting, batch_labels).item()\n",
        "\n",
        "    # Calculate average losses and accuracies\n",
        "    overfitting_train_losses.append(overfitting_train_loss / len(overfitting_train_loader))\n",
        "    overfitting_test_losses.append(overfitting_test_loss / len(test_loader))\n",
        "    overfitting_train_accuracies.append(correct_train / total_train)\n",
        "    overfitting_test_accuracies.append(correct_test / total_test)\n",
        "\n",
        "    print(f'Epoch {epoch+1}/{num_epochs_overfitting}, '\n",
        "          f'Overfitting Train Loss: {overfitting_train_losses[-1]:.4f}, '\n",
        "          f'Overfitting Test Loss: {overfitting_test_losses[-1]:.4f}, '\n",
        "          f'Overfitting Train Accuracy: {overfitting_train_accuracies[-1]:.4f}, '\n",
        "          f'Overfitting Test Accuracy: {overfitting_test_accuracies[-1]:.4f}')\n",
        "\n",
        "# Plotting the loss curves\n",
        "plt.figure(figsize=(12, 4))\n",
        "plt.subplot(1, 2, 1)\n",
        "plt.plot(overfitting_train_losses, label='Train')\n",
        "plt.plot(overfitting_test_losses, label='Test')\n",
        "plt.title('Overfitting Model Loss')\n",
        "plt.xlabel('Epoch')\n",
        "plt.ylabel('Loss')\n",
        "plt.legend()\n",
        "\n",
        "# Plotting the accuracy curves\n",
        "plt.subplot(1, 2, 2)\n",
        "plt.plot(overfitting_train_accuracies, label='Train')\n",
        "plt.plot(overfitting_test_accuracies, label='Test')\n",
        "plt.title('Overfitting Model Accuracy')\n",
        "plt.xlabel('Epoch')\n",
        "plt.ylabel('Accuracy')\n",
        "plt.legend()\n",
        "\n",
        "plt.tight_layout()\n",
        "plt.show()"
      ]
    },
    {
      "cell_type": "code",
      "execution_count": 41,
      "metadata": {
        "colab": {
          "base_uri": "https://localhost:8080/"
        },
        "id": "JgXAKCpvCwqH",
        "outputId": "4e7303b9-1811-4664-aa1d-b87ad43341c9"
      },
      "outputs": [
        {
          "output_type": "stream",
          "name": "stdout",
          "text": [
            "----------------------------------------------------------------\n",
            "        Layer (type)               Output Shape         Param #\n",
            "================================================================\n",
            "           Flatten-1                  [-1, 784]               0\n",
            "            Linear-2                  [-1, 512]         401,920\n",
            "              ReLU-3                  [-1, 512]               0\n",
            "           Dropout-4                  [-1, 512]               0\n",
            "            Linear-5                  [-1, 512]         262,656\n",
            "              ReLU-6                  [-1, 512]               0\n",
            "            Linear-7                   [-1, 10]           5,130\n",
            "================================================================\n",
            "Total params: 669,706\n",
            "Trainable params: 669,706\n",
            "Non-trainable params: 0\n",
            "----------------------------------------------------------------\n",
            "Input size (MB): 0.00\n",
            "Forward/backward pass size (MB): 0.03\n",
            "Params size (MB): 2.55\n",
            "Estimated Total Size (MB): 2.58\n",
            "----------------------------------------------------------------\n"
          ]
        }
      ],
      "source": [
        "torchsummary.summary(OverfittingNeuralNetwork().to(device), (28*28,))"
      ]
    },
    {
      "cell_type": "markdown",
      "metadata": {
        "id": "EJMfurnXqk7B"
      },
      "source": [
        "### Task 3: Fix it.\n",
        "Fix the overfitted network from the previous step (at least partially) by using regularization techniques (Dropout/Batchnorm/...) and demonstrate the results."
      ]
    },
    {
      "cell_type": "code",
      "execution_count": 52,
      "metadata": {
        "colab": {
          "base_uri": "https://localhost:8080/",
          "height": 568
        },
        "id": "Oc_owgYMqk7B",
        "outputId": "e64427cf-e752-412c-bcf7-7bc08e6bd6b9"
      },
      "outputs": [
        {
          "output_type": "stream",
          "name": "stdout",
          "text": [
            "Epoch 1/9, Train Loss: 0.3744, Test Loss: 0.4229, Train Accuracy: 0.8651, Test Accuracy: 0.8477\n",
            "Epoch 2/9, Train Loss: 0.3037, Test Loss: 0.3618, Train Accuracy: 0.8881, Test Accuracy: 0.8631\n",
            "Epoch 3/9, Train Loss: 0.3001, Test Loss: 0.3698, Train Accuracy: 0.8863, Test Accuracy: 0.8568\n",
            "Epoch 4/9, Train Loss: 0.2399, Test Loss: 0.3153, Train Accuracy: 0.9111, Test Accuracy: 0.8848\n",
            "Epoch 5/9, Train Loss: 0.2374, Test Loss: 0.3247, Train Accuracy: 0.9109, Test Accuracy: 0.8801\n",
            "Epoch 6/9, Train Loss: 0.2169, Test Loss: 0.3108, Train Accuracy: 0.9184, Test Accuracy: 0.8873\n",
            "Epoch 7/9, Train Loss: 0.2480, Test Loss: 0.3541, Train Accuracy: 0.9033, Test Accuracy: 0.8663\n",
            "Epoch 8/9, Train Loss: 0.1936, Test Loss: 0.3061, Train Accuracy: 0.9271, Test Accuracy: 0.8911\n",
            "Epoch 9/9, Train Loss: 0.1866, Test Loss: 0.3030, Train Accuracy: 0.9308, Test Accuracy: 0.8890\n"
          ]
        },
        {
          "output_type": "display_data",
          "data": {
            "text/plain": [
              "<Figure size 1200x400 with 2 Axes>"
            ],
            "image/png": "[encoded data removed]"
          },
          "metadata": {}
        }
      ],
      "source": [
        "import torch\n",
        "import torch.nn as nn\n",
        "import torch.optim as optim\n",
        "from torch.utils.data import DataLoader\n",
        "from torchvision import datasets, transforms\n",
        "import matplotlib.pyplot as plt\n",
        "\n",
        "# Define a neural network for overfitting\n",
        "class OverfittingNeuralNetwork(nn.Module):\n",
        "    def __init__(self, input_shape=28*28, num_classes=10, input_channels=1, hidden_size=512, dropout_rate=0.2, hidden_size_2=128):\n",
        "        super(OverfittingNeuralNetwork, self).__init__()\n",
        "        self.model = nn.Sequential(\n",
        "            nn.Flatten(),\n",
        "            nn.Linear(input_shape, hidden_size),\n",
        "            nn.BatchNorm1d(hidden_size),\n",
        "            nn.ReLU(),\n",
        "            nn.Dropout(p=dropout_rate),\n",
        "            nn.Linear(hidden_size, hidden_size_2),\n",
        "            nn.BatchNorm1d(hidden_size_2),\n",
        "            nn.ReLU(),\n",
        "            nn.Linear(hidden_size_2, num_classes)\n",
        "        )\n",
        "\n",
        "    def forward(self, inp):\n",
        "        out = self.model(inp)\n",
        "        return out\n",
        "\n",
        "# Set the device to GPU if available, otherwise use CPU\n",
        "device = torch.device(\"cuda\" if torch.cuda.is_available() else \"cpu\")\n",
        "\n",
        "# Initialize the overfitting model and move it to the selected device\n",
        "overfitting_model = OverfittingNeuralNetwork().to(device)\n",
        "\n",
        "# Choose an optimizer and a loss function\n",
        "optimizer_overfitting = torch.optim.Adam(overfitting_model.parameters(), lr=0.001)\n",
        "criterion_overfitting = nn.CrossEntropyLoss()\n",
        "\n",
        "# Training loop for overfitting\n",
        "num_epochs_overfitting = 9\n",
        "overfitting_train_losses = []\n",
        "overfitting_test_losses = []\n",
        "overfitting_train_accuracies = []\n",
        "overfitting_test_accuracies = []\n",
        "\n",
        "for epoch in range(num_epochs_overfitting):\n",
        "    overfitting_model.train()\n",
        "    for batch_data, batch_labels in train_loader:\n",
        "        batch_data, batch_labels = batch_data.to(device), batch_labels.to(device)\n",
        "\n",
        "        optimizer_overfitting.zero_grad()\n",
        "        outputs_overfitting = overfitting_model(batch_data)\n",
        "        loss_overfitting = criterion_overfitting(outputs_overfitting, batch_labels)\n",
        "        loss_overfitting.backward()\n",
        "        optimizer_overfitting.step()\n",
        "\n",
        "    # Train set evaluation\n",
        "    overfitting_model.eval()\n",
        "    overfitting_train_loss = 0.0\n",
        "    correct_train, total_train = 0, 0\n",
        "    with torch.no_grad():\n",
        "        for batch_data, batch_labels in train_loader:\n",
        "            batch_data, batch_labels = batch_data.to(device), batch_labels.to(device)\n",
        "\n",
        "            outputs_overfitting = overfitting_model(batch_data)\n",
        "            _, predicted_train = torch.max(outputs_overfitting, 1)\n",
        "            total_train += batch_labels.size(0)\n",
        "            correct_train += (predicted_train == batch_labels).sum().item()\n",
        "            overfitting_train_loss += criterion_overfitting(outputs_overfitting, batch_labels).item()\n",
        "\n",
        "    # Test set evaluation\n",
        "    overfitting_test_loss = 0.0\n",
        "    correct_test, total_test = 0, 0\n",
        "    with torch.no_grad():\n",
        "        for batch_data, batch_labels in test_loader:\n",
        "            batch_data, batch_labels = batch_data.to(device), batch_labels.to(device)\n",
        "\n",
        "            outputs_overfitting = overfitting_model(batch_data)\n",
        "            _, predicted_test = torch.max(outputs_overfitting, 1)\n",
        "            total_test += batch_labels.size(0)\n",
        "            correct_test += (predicted_test == batch_labels).sum().item()\n",
        "            overfitting_test_loss += criterion_overfitting(outputs_overfitting, batch_labels).item()\n",
        "\n",
        "    # Calculate average losses and accuracies\n",
        "    overfitting_train_losses.append(overfitting_train_loss / len(train_loader))\n",
        "    overfitting_test_losses.append(overfitting_test_loss / len(test_loader))\n",
        "    overfitting_train_accuracies.append(correct_train / total_train)\n",
        "    overfitting_test_accuracies.append(correct_test / total_test)\n",
        "\n",
        "    print(f'Epoch {epoch+1}/{num_epochs_overfitting}, '\n",
        "          f'Train Loss: {overfitting_train_losses[-1]:.4f}, '\n",
        "          f'Test Loss: {overfitting_test_losses[-1]:.4f}, '\n",
        "          f'Train Accuracy: {overfitting_train_accuracies[-1]:.4f}, '\n",
        "          f'Test Accuracy: {overfitting_test_accuracies[-1]:.4f}')\n",
        "\n",
        "# Plotting the loss curves\n",
        "plt.figure(figsize=(12, 4))\n",
        "plt.subplot(1, 2, 1)\n",
        "plt.plot(overfitting_train_losses, label='Train')\n",
        "plt.plot(overfitting_test_losses, label='Test')\n",
        "plt.title('Model Loss')\n",
        "plt.xlabel('Epoch')\n",
        "plt.ylabel('Loss')\n",
        "plt.legend()\n",
        "\n",
        "# Plotting the accuracy curves\n",
        "plt.subplot(1, 2, 2)\n",
        "plt.plot(overfitting_train_accuracies, label='Train')\n",
        "plt.plot(overfitting_test_accuracies, label='Test')\n",
        "plt.title('Model Accuracy')\n",
        "plt.xlabel('Epoch')\n",
        "plt.ylabel('Accuracy')\n",
        "plt.legend()\n",
        "\n",
        "plt.tight_layout()\n",
        "plt.show()"
      ]
    },
    {
      "cell_type": "code",
      "execution_count": null,
      "metadata": {
        "id": "lc5UNp6p7MAv"
      },
      "outputs": [],
      "source": []
    },
    {
      "cell_type": "markdown",
      "metadata": {
        "id": "dMui_uLJ7G0d"
      },
      "source": [
        "### Conclusions:\n",
        "_Write down small report with your conclusions and your ideas._"
      ]
    }
  ],
  "metadata": {
    "accelerator": "GPU",
    "colab": {
      "provenance": []
    },
    "kernelspec": {
      "display_name": "Python 3",
      "language": "python",
      "name": "python3"
    },
    "language_info": {
      "codemirror_mode": {
        "name": "ipython",
        "version": 3
      },
      "file_extension": ".py",
      "mimetype": "text/x-python",
      "name": "python",
      "nbconvert_exporter": "python",
      "pygments_lexer": "ipython3",
      "version": "3.7.7"
    }
  },
  "nbformat": 4,
  "nbformat_minor": 0
}